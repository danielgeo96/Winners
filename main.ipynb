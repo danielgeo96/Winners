{
 "cells": [
  {
   "cell_type": "code",
   "execution_count": null,
   "id": "ad733c0b",
   "metadata": {},
   "outputs": [],
   "source": []
  },
  {
   "cell_type": "code",
   "execution_count": null,
   "id": "c3547d84",
   "metadata": {},
   "outputs": [],
   "source": [
    "\n",
    "#import all libraries we used\n",
    "\n",
    "import pandas as pd\n",
    "from bs4 import BeautifulSoup\n",
    "import requests\n",
    "import html5lib\n",
    "import os\n",
    "import re"
   ]
  },
  {
   "cell_type": "code",
   "execution_count": null,
   "id": "091caf10",
   "metadata": {},
   "outputs": [],
   "source": [
    "\n",
    "#create our DataFrame\n",
    "\n",
    "def createDf():\n",
    "    data = {'round': [], 'season': [], 'date':[], 'hour':[], 'home team': [], 'guest team': [], 'score': [],'winners': []}\n",
    "    df = pd.DataFrame(data)\n",
    "    return df"
   ]
  },
  {
   "cell_type": "code",
   "execution_count": null,
   "id": "2e00fb8c",
   "metadata": {},
   "outputs": [],
   "source": [
    "\n",
    "#Create a string of two seasons\n",
    "\n",
    "def season(firstY,secondY):\n",
    "    years = firstY+\"-\"+secondY\n",
    "    return years"
   ]
  },
  {
   "cell_type": "code",
   "execution_count": null,
   "id": "5c2f5617",
   "metadata": {},
   "outputs": [],
   "source": [
    "\n",
    "#Create BeautifulSoup object\n",
    "\n",
    "def load_soup_object(years,rounds):\n",
    "    if years == \"2016-2017\":\n",
    "        url = \"https://www.worldfootball.net/schedule/esp-primera-division-\"+years+\"-spieltag_2/\"+rounds\n",
    "    else:\n",
    "        url = \"https://www.worldfootball.net/schedule/esp-primera-division-\"+years+\"-spieltag/\"+rounds\n",
    "    r = requests.get(url)\n",
    "    soup = BeautifulSoup(r.text,'html.parser')\n",
    "    return soup"
   ]
  },
  {
   "cell_type": "code",
   "execution_count": null,
   "id": "d202cb51",
   "metadata": {},
   "outputs": [],
   "source": [
    "\n",
    "#Insert our BeautifulSoup object to our Dataframe\n",
    "\n",
    "def insertSoupToDataFrame(soup,df,rounds,years):\n",
    "    \n",
    "    date=list()\n",
    "    hour=list()\n",
    "    homeTeam=list()\n",
    "    guestTeam=list()\n",
    "    score=list()\n",
    "    \n",
    "    table = soup.find('table',attrs={\"class\":\"standard_tabelle\"})\n",
    "    \n",
    "    for row in table(\"tr\"):\n",
    "        cells = row(\"td\")\n",
    "        if(len(cells)<6):\n",
    "            continue\n",
    "        if cells[0].get_text() != \"\":\n",
    "            temp = cells[0].get_text()\n",
    "            date.append(cells[0].get_text())\n",
    "        else:\n",
    "            date.append(temp)\n",
    "        hour.append(cells[1].get_text())\n",
    "        homeTeam.append(cells[2].get_text().strip())\n",
    "        guestTeam.append(cells[4].get_text().strip())\n",
    "        score.append(cells[5].get_text().strip())\n",
    "        \n",
    "        \n",
    "    data = {'round': rounds, 'season': years, 'date':date, 'hour':hour, 'home team': homeTeam, 'guest team': guestTeam, 'score': score}\n",
    "    df = pd.DataFrame(data)\n",
    "    return df\n",
    "    "
   ]
  },
  {
   "cell_type": "code",
   "execution_count": null,
   "id": "55ea2b76",
   "metadata": {},
   "outputs": [],
   "source": [
    "\n",
    "#Our main function to get our data using the last functions of creatring BeautifulSoup and dataframe\n",
    "\n",
    "def getData():\n",
    "    yearList = [\"2000\", \"2001\", \"2002\",\"2003\", \"2004\", \"2005\",\"2006\", \"2007\", \"2008\",\"2009\",\n",
    "                \"2010\", \"2011\",\"2012\", \"2013\", \"2014\",\"2015\", \"2016\", \"2017\",\"2018\", \"2019\", \"2020\",\"2021\", \"2022\"]\n",
    "\n",
    "    roundsList = [\"1\", \"2\", \"3\", \"4\", \"5\", \"6\", \"7\", \"8\", \"9\", \"10\",\n",
    "                  \"11\", \"12\",\"13\", \"14\", \"15\", \"16\", \"17\", \"18\", \"19\", \"20\",\n",
    "                  \"21\", \"22\", \"23\", \"24\", \"25\", \"26\", \"27\", \"28\", \"29\", \"30\",\n",
    "                  \"31\", \"32\", \"33\", \"34\", \"35\", \"36\", \"37\", \"38\"]\n",
    "\n",
    "    df = createDf()\n",
    "    tempYear = 0;\n",
    "    tempRounds = 0;\n",
    "    for year in yearList:\n",
    "        if yearList[tempYear] == \"2022\" :\n",
    "            break\n",
    "        years = season(yearList[tempYear],yearList[tempYear+1])\n",
    "        for rounds in roundsList:\n",
    "            soup = load_soup_object(years,rounds)\n",
    "            df1 = insertSoupToDataFrame(soup,df,rounds,years)\n",
    "            df = df.append(df1, ignore_index=True)\n",
    "            tempRounds = tempRounds+1\n",
    "        tempYear=tempYear+1\n",
    "    \n",
    "    return df"
   ]
  },
  {
   "cell_type": "code",
   "execution_count": null,
   "id": "d49de0f0",
   "metadata": {},
   "outputs": [],
   "source": [
    "\n",
    "#Check the score and fill winners column \n",
    "\n",
    "def getWinners(df):\n",
    "    df1 = df.copy()\n",
    "    temp = df.score\n",
    "    winners = list()\n",
    "    for i in temp:\n",
    "        if i[0] < i[2]:\n",
    "            winners.append(\"Away\")\n",
    "        elif i[0] > i[2]:\n",
    "            winners.append(\"Home\")\n",
    "        else:\n",
    "            winners.append(\"Draw\")\n",
    "    df1.winners = winners\n",
    "    return df1"
   ]
  },
  {
   "cell_type": "code",
   "execution_count": null,
   "id": "93523bd3",
   "metadata": {},
   "outputs": [],
   "source": [
    "\n",
    "#Edit the score \n",
    "\n",
    "def editScore(df):\n",
    "    df1 = df.copy()\n",
    "    temp = df.score\n",
    "    scoreEdit = list()\n",
    "    for i in temp:\n",
    "            i = i[0: 3]\n",
    "            scoreEdit.append(i)\n",
    "    df1.score = scoreEdit\n",
    "    return df1"
   ]
  },
  {
   "cell_type": "code",
   "execution_count": null,
   "id": "c63c96ad",
   "metadata": {},
   "outputs": [],
   "source": [
    "\n",
    "#update empty hours with the value 0\n",
    "\n",
    "def updateHours(df):\n",
    "    df1 = df.copy()\n",
    "    temp = df.hour\n",
    "    hours = list()\n",
    "    for i in temp:\n",
    "        if i==\"NaN\" or i == \"\":\n",
    "            hours.append(\"0\")\n",
    "        else:\n",
    "            hours.append(i)\n",
    "    df1.hour = hours\n",
    "    return df1"
   ]
  },
  {
   "cell_type": "code",
   "execution_count": null,
   "id": "772dee93",
   "metadata": {},
   "outputs": [],
   "source": [
    "df = getData()\n",
    "df1 = getWinners(df)\n",
    "df2 = updateHours(df1)\n",
    "df3 = editScore(df2)\n",
    "df3.to_csv('data.csv')\n",
    "df3"
   ]
  },
  {
   "cell_type": "code",
   "execution_count": null,
   "id": "608c67ab",
   "metadata": {},
   "outputs": [],
   "source": [
    "df = pd.read_csv('data.csv')\n",
    "df1 = df.drop(['Unnamed: 0'], axis=1)\n",
    "df2 = df1.dropna(axis=0)\n",
    "df2"
   ]
  },
  {
   "cell_type": "code",
   "execution_count": null,
   "id": "a10ecf8c",
   "metadata": {},
   "outputs": [],
   "source": []
  }
 ],
 "metadata": {
  "kernelspec": {
   "display_name": "Python 3 (ipykernel)",
   "language": "python",
   "name": "python3"
  },
  "language_info": {
   "codemirror_mode": {
    "name": "ipython",
    "version": 3
   },
   "file_extension": ".py",
   "mimetype": "text/x-python",
   "name": "python",
   "nbconvert_exporter": "python",
   "pygments_lexer": "ipython3",
   "version": "3.9.7"
  }
 },
 "nbformat": 4,
 "nbformat_minor": 5
}
