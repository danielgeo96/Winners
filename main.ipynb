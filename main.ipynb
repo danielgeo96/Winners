{
 "cells": [
  {
   "cell_type": "markdown",
   "id": "03d5db0a",
   "metadata": {},
   "source": [
    "# Winners"
   ]
  },
  {
   "cell_type": "code",
   "execution_count": 1,
   "id": "c3547d84",
   "metadata": {},
   "outputs": [],
   "source": [
    "#import all libraries we used\n",
    "import pandas as pd\n",
    "from bs4 import BeautifulSoup\n",
    "import requests\n",
    "import html5lib\n",
    "import os\n",
    "import re\n",
    "import sklearn\n",
    "import matplotlib as mpl\n",
    "import matplotlib.pyplot as plt\n",
    "%matplotlib inline\n",
    "from sklearn.model_selection import train_test_split\n",
    "from sklearn.linear_model import LogisticRegression,LinearRegression\n",
    "from sklearn.metrics import f1_score"
   ]
  },
  {
   "cell_type": "markdown",
   "id": "3b4124b7",
   "metadata": {},
   "source": [
    "## Crawling"
   ]
  },
  {
   "cell_type": "code",
   "execution_count": 2,
   "id": "091caf10",
   "metadata": {},
   "outputs": [],
   "source": [
    "#create our DataFrame\n",
    "\n",
    "def createDf():\n",
    "    data = {'Round': [], 'Season': [], 'Date':[], 'Hour':[], 'HomeTeam': [], 'GuestTeam': []\n",
    "            , 'Score': [],'ScoreDiff':[],'Winners': []}\n",
    "    df = pd.DataFrame(data)\n",
    "    return df"
   ]
  },
  {
   "cell_type": "code",
   "execution_count": 3,
   "id": "2e00fb8c",
   "metadata": {},
   "outputs": [],
   "source": [
    "#Create a string of two seasons\n",
    "\n",
    "def season(firstY,secondY):\n",
    "    years = firstY+\"-\"+secondY\n",
    "    return years"
   ]
  },
  {
   "cell_type": "code",
   "execution_count": 4,
   "id": "5c2f5617",
   "metadata": {},
   "outputs": [],
   "source": [
    "#Create BeautifulSoup object\n",
    "\n",
    "def load_soup_object(years,rounds):\n",
    "    try:\n",
    "        if years == \"2016-2017\":\n",
    "            url = \"https://www.worldfootball.net/schedule/esp-primera-division-\"+years+\"-spieltag_2/\"+rounds\n",
    "        else:\n",
    "            url = \"https://www.worldfootball.net/schedule/esp-primera-division-\"+years+\"-spieltag/\"+rounds\n",
    "        r = requests.get(url)\n",
    "        soup = BeautifulSoup(r.text,'html.parser')\n",
    "    except:\n",
    "        print(\"there was problem in years \"+ years + \"and round \"+rounds+\".\")\n",
    "    return soup"
   ]
  },
  {
   "cell_type": "code",
   "execution_count": 5,
   "id": "d202cb51",
   "metadata": {},
   "outputs": [],
   "source": [
    "#Insert our BeautifulSoup object to our Dataframe\n",
    "\n",
    "def insertSoupToDataFrame(soup,df,rounds,years):\n",
    "    \n",
    "    date=list()\n",
    "    hour=list()\n",
    "    homeTeam=list()\n",
    "    guestTeam=list()\n",
    "    score=list()\n",
    "    \n",
    "    table = soup.find('table',attrs={\"class\":\"standard_tabelle\"})\n",
    "    \n",
    "    for row in table(\"tr\"):\n",
    "        cells = row(\"td\")\n",
    "        if(len(cells)<6):\n",
    "            continue\n",
    "        if cells[0].get_text() != \"\":\n",
    "            temp = cells[0].get_text()\n",
    "            date.append(cells[0].get_text())\n",
    "        else:\n",
    "            date.append(temp)\n",
    "        hour.append(cells[1].get_text())\n",
    "        homeTeam.append(cells[2].get_text().strip())\n",
    "        guestTeam.append(cells[4].get_text().strip())\n",
    "        score.append(cells[5].get_text().strip())\n",
    "               \n",
    "    data = {'Round': rounds, 'Season': years, 'Date':date, 'Hour':hour, 'HomeTeam': homeTeam, 'GuestTeam': guestTeam,\n",
    "            'Score': score}\n",
    "    df = pd.DataFrame(data)\n",
    "    return df\n",
    "    "
   ]
  },
  {
   "cell_type": "code",
   "execution_count": 6,
   "id": "55ea2b76",
   "metadata": {},
   "outputs": [],
   "source": [
    "#Our main function to get our data using the last functions of creatring BeautifulSoup and dataframe\n",
    "\n",
    "def getData():\n",
    "    yearList = [\"2000\", \"2001\", \"2002\",\"2003\", \"2004\", \"2005\",\"2006\", \"2007\", \"2008\",\"2009\",\n",
    "                \"2010\", \"2011\",\"2012\", \"2013\", \"2014\",\"2015\", \"2016\", \"2017\",\"2018\", \"2019\", \"2020\",\"2021\", \"2022\"]\n",
    "\n",
    "    roundsList = [\"1\", \"2\", \"3\", \"4\", \"5\", \"6\", \"7\", \"8\", \"9\", \"10\",\n",
    "                  \"11\", \"12\",\"13\", \"14\", \"15\", \"16\", \"17\", \"18\", \"19\", \"20\",\n",
    "                  \"21\", \"22\", \"23\", \"24\", \"25\", \"26\", \"27\", \"28\", \"29\", \"30\",\n",
    "                  \"31\", \"32\", \"33\", \"34\", \"35\", \"36\", \"37\", \"38\"]\n",
    "\n",
    "    df = createDf()\n",
    "    tempYear = 0;\n",
    "    tempRounds = 0;\n",
    "    for year in yearList:\n",
    "        if yearList[tempYear] == \"2022\" :\n",
    "            break\n",
    "        years = season(yearList[tempYear],yearList[tempYear+1])\n",
    "        for rounds in roundsList:\n",
    "            soup = load_soup_object(years,rounds)\n",
    "            df1 = insertSoupToDataFrame(soup,df,rounds,years)\n",
    "            df = df.append(df1, ignore_index=True)\n",
    "            tempRounds = tempRounds+1\n",
    "        tempYear=tempYear+1\n",
    "    \n",
    "    return df"
   ]
  },
  {
   "cell_type": "markdown",
   "id": "593c9a7b",
   "metadata": {},
   "source": [
    "## Cleaning the Data"
   ]
  },
  {
   "cell_type": "code",
   "execution_count": 7,
   "id": "d49de0f0",
   "metadata": {},
   "outputs": [],
   "source": [
    "#Check the score and fill winners column \n",
    "\n",
    "def getWinners(df):\n",
    "    df1 = df.copy()\n",
    "    temp = df.Score\n",
    "    winners = list()\n",
    "    for i in temp:\n",
    "        if i[0] < i[2]:\n",
    "            winners.append(\"Away\")\n",
    "        elif i[0] > i[2]:\n",
    "            winners.append(\"Home\")\n",
    "        else:\n",
    "            winners.append(\"Draw\")\n",
    "    df1.Winners = winners\n",
    "    return df1"
   ]
  },
  {
   "cell_type": "code",
   "execution_count": 8,
   "id": "93523bd3",
   "metadata": {},
   "outputs": [],
   "source": [
    "#Edit the score \n",
    "\n",
    "def editScore(df):\n",
    "    df1 = df.copy()\n",
    "    scoreList = df.Score\n",
    "    tempDiff = 0\n",
    "    diff = list()\n",
    "    scoreEdit = list()\n",
    "    for i in scoreList:\n",
    "            i = i[0: 3]\n",
    "            scoreEdit.append(i)\n",
    "            try:\n",
    "                temp = int(i[0]) - int(i[2])\n",
    "            except:\n",
    "                temp = \"NaN\"\n",
    "            diff.append(temp)\n",
    "    df1.Score = scoreEdit\n",
    "    df1.ScoreDiff = diff\n",
    "    return df1"
   ]
  },
  {
   "cell_type": "code",
   "execution_count": 9,
   "id": "384cd933",
   "metadata": {},
   "outputs": [],
   "source": [
    "def teamsToNumeric(df,first,second):\n",
    "    df1 = df.copy()\n",
    "    df1.loc[(df['HomeTeam'] == first),'HomeTeam']= 1\n",
    "    df1.loc[(df['GuestTeam'] == second),'GuestTeam']= 2\n",
    "    return df1"
   ]
  },
  {
   "cell_type": "code",
   "execution_count": 10,
   "id": "ec30a42c",
   "metadata": {},
   "outputs": [],
   "source": [
    "def winnersToNumeric(df):\n",
    "    df1 = df.copy()\n",
    "    df1.loc[(df.Winners == 'Home'),'Winners']= 1\n",
    "    df1.loc[(df.Winners == 'Draw'),'Winners']= 0\n",
    "    df1.loc[(df.Winners == 'Away'),'Winners']= 2\n",
    "\n",
    "    return df1"
   ]
  },
  {
   "cell_type": "code",
   "execution_count": 11,
   "id": "0621966e",
   "metadata": {},
   "outputs": [],
   "source": [
    "def cleanData(df,firstTeam,secondTeam):\n",
    "    df1 = df.copy()\n",
    "    df2 = getWinners(df1)\n",
    "    df3 = editScore(df2)\n",
    "    df4 = df3.drop(['Season', 'Date','Hour'], axis=1)\n",
    "    df5 = df4.dropna(axis=0)\n",
    "    df6 = TwoTeamsDataFarmeFilterByOrder(df5,firstTeam,secondTeam)\n",
    "    df7 = teamsToNumeric(df6,firstTeam,secondTeam)\n",
    "    df8 = winnersToNumeric(df7)\n",
    "    df9 = df8.drop(['Score'], axis=1)\n",
    "    df10 = df9.astype('int')\n",
    "    df11 = df10.copy()\n",
    "    return df11"
   ]
  },
  {
   "cell_type": "markdown",
   "id": "2b11d9dc",
   "metadata": {},
   "source": [
    "## EDA"
   ]
  },
  {
   "cell_type": "code",
   "execution_count": 12,
   "id": "a10ecf8c",
   "metadata": {},
   "outputs": [],
   "source": [
    "\n",
    "# Filter DataFrame to have only games participated by a certine team (home & away)\n",
    "\n",
    "def OneTeamDataFrameFilter(df, team):\n",
    "    df1 = df.copy()\n",
    "    return df1.loc[(df1['HomeTeam'] == team) | (df1['GuestTeam'] == team)]"
   ]
  },
  {
   "cell_type": "code",
   "execution_count": 13,
   "id": "738df507",
   "metadata": {},
   "outputs": [],
   "source": [
    "\n",
    "#Filter DataFrame to have only games participated by certine 2 teams (home & away)\n",
    "\n",
    "def TwoTeamsDataFarmeFilter(df, team1, team2):\n",
    "    df1 = df.copy()\n",
    "    return pd.concat([df1.loc[(df1['HomeTeam'] == team1) & (df1['GuestTeam'] == team2)],df1.loc[(df1['HomeTeam'] == team2) & (df1['GuestTeam'] == team1)]])"
   ]
  },
  {
   "cell_type": "code",
   "execution_count": 14,
   "id": "b598c621",
   "metadata": {},
   "outputs": [],
   "source": [
    "\n",
    "#Filter DataFrame to have only games participated by certine 2 teams (home & away) but this time by order\n",
    "\n",
    "def TwoTeamsDataFarmeFilterByOrder(df, team1, team2):\n",
    "    df1 = df.copy()\n",
    "    return pd.concat([df1.loc[(df1['HomeTeam'] == team1) & (df1['GuestTeam'] == team2)]])"
   ]
  },
  {
   "cell_type": "code",
   "execution_count": 15,
   "id": "b75a8678",
   "metadata": {},
   "outputs": [],
   "source": [
    "\n",
    "# charts maker\n",
    "\n",
    "def one_dim_plot(sr, plot_type,plot_title,axis):\n",
    "    return sr.plot(y=' ',kind=plot_type, title=plot_title,ax=axis)"
   ]
  },
  {
   "cell_type": "code",
   "execution_count": 16,
   "id": "fde49f85",
   "metadata": {},
   "outputs": [],
   "source": [
    "\n",
    "# two teams win & loss ratio - pie chart\n",
    "\n",
    "def TwoTeamsWinsPieChart(df, team1, team2,axis):\n",
    "    df_copy = TwoTeamsDataFarmeFilter(df, team1, team2)\n",
    "    \n",
    "    team1_wins = len(df_copy[(df_copy['HomeTeam'] == team1) & (df_copy['Winners']=='Home')].index) + len(df_copy[(df_copy['GuestTeam'] == team1) & (df_copy['Winners']=='Away')].index)\n",
    "    draws= 0\n",
    "    for winner in df_copy.Winners:\n",
    "        if winner == 'Draw':\n",
    "            draws = draws+1\n",
    "    team2_wins= len(df_copy[(df_copy['HomeTeam'] == team2) & (df_copy['Winners']=='Home')].index) + len(df_copy[(df_copy['GuestTeam'] == team2) & (df_copy['Winners']=='Away')].index)\n",
    "    \n",
    "    sr_data = pd.Series([team1_wins,draws,team2_wins], index=[team1, 'Draw', team2])\n",
    "    one_dim_plot(sr_data, 'pie', f\"{team1} & {team2} Matches\",axis)"
   ]
  },
  {
   "cell_type": "code",
   "execution_count": 17,
   "id": "71a106ba",
   "metadata": {},
   "outputs": [],
   "source": [
    "\n",
    "# one team win & loss all time ratio - pie chart\n",
    "\n",
    "def OneTeamWinsPieChart(df, team,axis):\n",
    "    df_copy =OneTeamDataFrameFilter(df, team)\n",
    "    wins=len(df_copy[(df_copy['HomeTeam'] == team) & (df_copy['Winners']=='Home')].index) + len(df_copy[(df_copy['GuestTeam'] == team) & (df_copy['Winners']=='Away')].index)\n",
    "    draws=0\n",
    "    for winner in df_copy.Winners:\n",
    "        if winner == 'Draw':\n",
    "            draws = draws+1\n",
    "    losses= len(df_copy.index)-wins-draws\n",
    "    \n",
    "    sr_data = pd.Series([wins,draws,losses], index=['Wins', 'Draws', 'Losses'])\n",
    "    one_dim_plot(sr_data, 'pie', f\"{team} Wins & Losses\",axis)"
   ]
  },
  {
   "cell_type": "code",
   "execution_count": 18,
   "id": "899803ad",
   "metadata": {},
   "outputs": [],
   "source": [
    "# two teams goals all time ratio - pie chart\n",
    "\n",
    "def TwoTeamsGoalsPieChart(df, team1, team2,axis):\n",
    "    df_copy = TwoTeamsDataFarmeFilter(df, team1, team2)\n",
    "    team1_score = 0\n",
    "    team2_score = 0\n",
    "    for index in df_copy.index:\n",
    "        \n",
    "        home_score = int(df_copy['Score'][index][0]) \n",
    "        away_score = int(df_copy['Score'][index][2] )\n",
    "        \n",
    "        if(df_copy['HomeTeam'][index] == team1):\n",
    "            team1_score += home_score\n",
    "            team2_score += away_score\n",
    "        else:\n",
    "            team1_score += away_score\n",
    "            team2_score += home_score\n",
    "            \n",
    "    sr_data = pd.Series([team1_score,team2_score], index=[team1, team2])\n",
    "    one_dim_plot(sr_data, 'pie', f\"{team1} & {team2} Matches Total Goals\",axis)"
   ]
  },
  {
   "cell_type": "code",
   "execution_count": 19,
   "id": "39a84185",
   "metadata": {},
   "outputs": [],
   "source": [
    "\n",
    "# one team goals all time ratio - pie chart\n",
    "\n",
    "def OneTeamGoalsPieChart(df, team,axis):\n",
    "    df_copy = OneTeamDataFrameFilter(df, team)\n",
    "    scored = 0\n",
    "    scored_to = 0\n",
    "    for index in df_copy.index:\n",
    "        try:\n",
    "            home_score = int(df_copy['Score'][index][0]) \n",
    "            away_score = int(df_copy['Score'][index][2] )\n",
    "        \n",
    "            if(df_copy['HomeTeam'][index] == team):\n",
    "                scored += home_score\n",
    "                scored_to += away_score\n",
    "            else:\n",
    "                scored += away_score\n",
    "                scored_to += home_score\n",
    "        except:\n",
    "            continue\n",
    "    sr_data = pd.Series([scored,scored_to], index=['Scored', 'Scored To'])\n",
    "    one_dim_plot(sr_data, 'pie', f\"{team} Matches Total Goals\",axis)"
   ]
  },
  {
   "cell_type": "code",
   "execution_count": 20,
   "id": "47eaf124",
   "metadata": {},
   "outputs": [],
   "source": [
    "\n",
    "#\n",
    "\n",
    "def HomeAwayWinLossRatiosBarChart(df, team,axis):\n",
    "    df_copy = OneTeamDataFrameFilter(df,team)\n",
    "    \n",
    "    home_resault_df = pd.DataFrame({'Wins':[0,0], 'Losses':[0,0]}, index = ['Home','Away'])\n",
    "    away_resault_df = pd.DataFrame({'Wins':[0], 'Losses':[0]}, index = ['Away'])\n",
    "    \n",
    "    for index in df_copy.index:\n",
    "        if(df_copy['HomeTeam'][index] == team):\n",
    "            if(df_copy['Winners'][index] == 'Home'):\n",
    "                home_resault_df['Wins'][0]+=1\n",
    "            else:\n",
    "                home_resault_df['Losses'][0]+=1\n",
    "        else:\n",
    "            if(df_copy['Winners'][index] == 'Home'):\n",
    "                home_resault_df['Losses'][1]+=1\n",
    "            else:\n",
    "                home_resault_df['Wins'][1]+=1\n",
    "                \n",
    "    ax = home_resault_df.plot.bar(rot=0,title=f\"{team} Win & Loss for Home & Away \" , ax=axis)  \n",
    "    #print(home_resault_df)\n",
    "        \n",
    "    \n",
    "    "
   ]
  },
  {
   "cell_type": "code",
   "execution_count": 21,
   "id": "08471506",
   "metadata": {},
   "outputs": [],
   "source": [
    "def printEDA(df,firstTeam,secondTeam):\n",
    "    fig, axes = plt.subplots(3,3, figsize=(20,20))\n",
    "    HomeAwayWinLossRatiosBarChart(df, firstTeam,axes[0][0])\n",
    "    HomeAwayWinLossRatiosBarChart(df, secondTeam,axes[0][1])\n",
    "    OneTeamGoalsPieChart(df, firstTeam,axes[0][2])\n",
    "    OneTeamGoalsPieChart(df, secondTeam,axes[1][0])\n",
    "    TwoTeamsGoalsPieChart(df,firstTeam, secondTeam,axes[1][1])\n",
    "    OneTeamWinsPieChart(df, firstTeam,axes[1][2])\n",
    "    OneTeamWinsPieChart(df, secondTeam,axes[2][0])\n",
    "    TwoTeamsWinsPieChart(df, firstTeam, secondTeam, axes[2][1])"
   ]
  },
  {
   "cell_type": "code",
   "execution_count": null,
   "id": "e2c91ca6",
   "metadata": {
    "scrolled": true
   },
   "outputs": [],
   "source": [
    "fig, axes = plt.subplots(1,1, figsize=(20,5))\n",
    "HomeAwayWinLossRatiosBarChart(df, 'Málaga CF',axes)"
   ]
  },
  {
   "cell_type": "code",
   "execution_count": null,
   "id": "1685058d",
   "metadata": {},
   "outputs": [],
   "source": [
    "fig, axes = plt.subplots(1,1, figsize=(20,5))\n",
    "HomeAwayWinLossRatiosBarChart(df, 'Atlético Madrid',axes)"
   ]
  },
  {
   "cell_type": "code",
   "execution_count": null,
   "id": "5eb38f06",
   "metadata": {},
   "outputs": [],
   "source": [
    "fig, axes = plt.subplots(1,1, figsize=(20,5))\n",
    "OneTeamGoalsPieChart(df,'Atlético Madrid',axes)"
   ]
  },
  {
   "cell_type": "code",
   "execution_count": null,
   "id": "9f714628",
   "metadata": {
    "scrolled": true
   },
   "outputs": [],
   "source": [
    "fig, axes = plt.subplots(1,1, figsize=(20,5))\n",
    "TwoTeamsGoalsPieChart(df,'Atlético Madrid', 'Real Madrid',axes)"
   ]
  },
  {
   "cell_type": "code",
   "execution_count": null,
   "id": "8dc3fc5b",
   "metadata": {},
   "outputs": [],
   "source": [
    "fig, axes = plt.subplots(1,1, figsize=(20,5))\n",
    "OneTeamWinsPieChart(df, 'FC Barcelona', axes)"
   ]
  },
  {
   "cell_type": "code",
   "execution_count": null,
   "id": "2ba17c3f",
   "metadata": {
    "scrolled": true
   },
   "outputs": [],
   "source": [
    "fig, axes = plt.subplots(1,1, figsize=(20,5))\n",
    "TwoTeamsWinsPieChart(df, 'Real Zaragoza', 'FC Barcelona',axes)"
   ]
  },
  {
   "cell_type": "code",
   "execution_count": null,
   "id": "b70d6eef",
   "metadata": {},
   "outputs": [],
   "source": [
    "fig, axes = plt.subplots(1,1, figsize=(20,5))\n",
    "TwoTeamsWinsPieChart(df, 'Atlético Madrid', 'Real Madrid', axes)"
   ]
  },
  {
   "cell_type": "markdown",
   "id": "8d89fbba",
   "metadata": {},
   "source": [
    "## Machine Learning"
   ]
  },
  {
   "cell_type": "code",
   "execution_count": 23,
   "id": "79861bb1",
   "metadata": {},
   "outputs": [],
   "source": [
    "def load_dataset(df, target_column):\n",
    "    X = df\n",
    "    y = X.pop(target_column)\n",
    "    return X, y"
   ]
  },
  {
   "cell_type": "markdown",
   "id": "c50d9018",
   "metadata": {},
   "source": [
    "### LinearRegression"
   ]
  },
  {
   "cell_type": "code",
   "execution_count": 24,
   "id": "32c5843b",
   "metadata": {},
   "outputs": [],
   "source": [
    "def train_1st_model(X_train, y_train):\n",
    "    trained_model=LinearRegression()\n",
    "    trained_model.fit(X_train,y_train)\n",
    "    \n",
    "    return trained_model"
   ]
  },
  {
   "cell_type": "code",
   "execution_count": 25,
   "id": "f9e72b75",
   "metadata": {},
   "outputs": [],
   "source": [
    "def predict_1st(trained_1st_model, X_test):\n",
    "    predict=trained_1st_model.predict(X_test)\n",
    "    return predict"
   ]
  },
  {
   "cell_type": "code",
   "execution_count": 26,
   "id": "00bc5f64",
   "metadata": {},
   "outputs": [],
   "source": [
    "def linearRegerssion(df):\n",
    "    train, test = train_test_split(df, test_size=0.2)\n",
    "    \n",
    "    X_1st_train, y_1st_train = load_dataset(train, \"Winners\")\n",
    "    X_1st_test, y_1st_test = load_dataset(test, \"Winners\")\n",
    "    trained_model_1st = train_1st_model(X_1st_train, y_1st_train)\n",
    "    pred_1st_vals = predict_1st(trained_model_1st, X_1st_test)\n",
    " \n",
    "    return pred_1st"
   ]
  },
  {
   "cell_type": "markdown",
   "id": "8b8d4288",
   "metadata": {},
   "source": [
    "### LogisticRegression"
   ]
  },
  {
   "cell_type": "code",
   "execution_count": 27,
   "id": "93d971fa",
   "metadata": {},
   "outputs": [],
   "source": [
    "def train_2nd_model(X_train, y_train):\n",
    "    trained_model = LogisticRegression()\n",
    "    trained_model.fit(X_train, y_train)\n",
    "    \n",
    "    return trained_model"
   ]
  },
  {
   "cell_type": "code",
   "execution_count": 28,
   "id": "27dfb4d0",
   "metadata": {},
   "outputs": [],
   "source": [
    "def predict_2nd(trained_2nd_model, X_test):\n",
    "    predicted_vals=trained_2nd_model.predict(X_test)\n",
    "    return predicted_vals"
   ]
  },
  {
   "cell_type": "code",
   "execution_count": 29,
   "id": "870a581f",
   "metadata": {},
   "outputs": [],
   "source": [
    "def evaluate_performance_2nd(y_test,y_predicted):\n",
    "    evaluate_value= f1_score(y_test,y_predicted,average='micro')\n",
    "    return evaluate_value"
   ]
  },
  {
   "cell_type": "code",
   "execution_count": 30,
   "id": "ea574bfd",
   "metadata": {},
   "outputs": [],
   "source": [
    "def logisticRegerssion(df):\n",
    "    train, test = train_test_split(df, test_size=0.2)\n",
    "    X_2nd_train, y_2nd_train = load_dataset(train, \"Winners\")\n",
    "    X_2nd_test, y_2nd_test = load_dataset(test, \"Winners\")\n",
    "    trained_model_2nd = train_2nd_model(X_2nd_train, y_2nd_train)\n",
    "    pred_2nd_vals = predict_2nd(trained_model_2nd, X_2nd_test)\n",
    "    y_pred_2nd = pd.Series(pred_2nd_vals,index=X_2nd_test.index)\n",
    "    resDF=pd.DataFrame({\"Actual\":y_2nd_test,\"Predicted\":y_pred_2nd})\n",
    "    eval_res_2nd = evaluate_performance_2nd(y_2nd_test, y_pred_2nd)\n",
    "    evelSeries.append(eval_res_2nd)\n",
    "    return y_pred_2nd,resDF,evelSeries"
   ]
  },
  {
   "cell_type": "code",
   "execution_count": 31,
   "id": "bcf23fd6",
   "metadata": {},
   "outputs": [],
   "source": [
    "evelSeries=list()"
   ]
  },
  {
   "cell_type": "markdown",
   "id": "4a649c1b",
   "metadata": {},
   "source": [
    "## Main"
   ]
  },
  {
   "cell_type": "markdown",
   "id": "01776941",
   "metadata": {},
   "source": [
    "### Get new data and save to csv"
   ]
  },
  {
   "cell_type": "code",
   "execution_count": 68,
   "id": "772dee93",
   "metadata": {},
   "outputs": [
    {
     "name": "stderr",
     "output_type": "stream",
     "text": [
      "C:\\Users\\edenm\\AppData\\Local\\Temp\\ipykernel_964\\3118767354.py:22: FutureWarning: The frame.append method is deprecated and will be removed from pandas in a future version. Use pandas.concat instead.\n",
      "  df = df.append(df1, ignore_index=True)\n"
     ]
    }
   ],
   "source": [
    "df1 = getData()\n",
    "df1.to_csv('data.csv')"
   ]
  },
  {
   "cell_type": "markdown",
   "id": "869e3e5d",
   "metadata": {},
   "source": [
    "### Using existing data from csv "
   ]
  },
  {
   "cell_type": "code",
   "execution_count": 32,
   "id": "bc482cb7",
   "metadata": {},
   "outputs": [
    {
     "data": {
      "text/html": [
       "<div>\n",
       "<style scoped>\n",
       "    .dataframe tbody tr th:only-of-type {\n",
       "        vertical-align: middle;\n",
       "    }\n",
       "\n",
       "    .dataframe tbody tr th {\n",
       "        vertical-align: top;\n",
       "    }\n",
       "\n",
       "    .dataframe thead th {\n",
       "        text-align: right;\n",
       "    }\n",
       "</style>\n",
       "<table border=\"1\" class=\"dataframe\">\n",
       "  <thead>\n",
       "    <tr style=\"text-align: right;\">\n",
       "      <th></th>\n",
       "      <th>Round</th>\n",
       "      <th>Season</th>\n",
       "      <th>Date</th>\n",
       "      <th>Hour</th>\n",
       "      <th>HomeTeam</th>\n",
       "      <th>GuestTeam</th>\n",
       "      <th>Score</th>\n",
       "      <th>ScoreDiff</th>\n",
       "      <th>Winners</th>\n",
       "    </tr>\n",
       "  </thead>\n",
       "  <tbody>\n",
       "    <tr>\n",
       "      <th>0</th>\n",
       "      <td>1</td>\n",
       "      <td>2000-2001</td>\n",
       "      <td>09/09/2000</td>\n",
       "      <td>NaN</td>\n",
       "      <td>Real Zaragoza</td>\n",
       "      <td>Espanyol Barcelona</td>\n",
       "      <td>1:2 (0:0)</td>\n",
       "      <td>NaN</td>\n",
       "      <td>NaN</td>\n",
       "    </tr>\n",
       "    <tr>\n",
       "      <th>1</th>\n",
       "      <td>1</td>\n",
       "      <td>2000-2001</td>\n",
       "      <td>09/09/2000</td>\n",
       "      <td>NaN</td>\n",
       "      <td>Real Madrid</td>\n",
       "      <td>Valencia CF</td>\n",
       "      <td>2:1 (0:0)</td>\n",
       "      <td>NaN</td>\n",
       "      <td>NaN</td>\n",
       "    </tr>\n",
       "    <tr>\n",
       "      <th>2</th>\n",
       "      <td>1</td>\n",
       "      <td>2000-2001</td>\n",
       "      <td>09/09/2000</td>\n",
       "      <td>NaN</td>\n",
       "      <td>FC Barcelona</td>\n",
       "      <td>Málaga CF</td>\n",
       "      <td>2:1 (2:0)</td>\n",
       "      <td>NaN</td>\n",
       "      <td>NaN</td>\n",
       "    </tr>\n",
       "    <tr>\n",
       "      <th>3</th>\n",
       "      <td>1</td>\n",
       "      <td>2000-2001</td>\n",
       "      <td>09/09/2000</td>\n",
       "      <td>NaN</td>\n",
       "      <td>Deportivo La Coruña</td>\n",
       "      <td>Athletic Bilbao</td>\n",
       "      <td>2:0 (0:0)</td>\n",
       "      <td>NaN</td>\n",
       "      <td>NaN</td>\n",
       "    </tr>\n",
       "    <tr>\n",
       "      <th>4</th>\n",
       "      <td>1</td>\n",
       "      <td>2000-2001</td>\n",
       "      <td>09/09/2000</td>\n",
       "      <td>NaN</td>\n",
       "      <td>Real Sociedad</td>\n",
       "      <td>Racing Santander</td>\n",
       "      <td>2:2 (0:0)</td>\n",
       "      <td>NaN</td>\n",
       "      <td>NaN</td>\n",
       "    </tr>\n",
       "    <tr>\n",
       "      <th>...</th>\n",
       "      <td>...</td>\n",
       "      <td>...</td>\n",
       "      <td>...</td>\n",
       "      <td>...</td>\n",
       "      <td>...</td>\n",
       "      <td>...</td>\n",
       "      <td>...</td>\n",
       "      <td>...</td>\n",
       "      <td>...</td>\n",
       "    </tr>\n",
       "    <tr>\n",
       "      <th>8355</th>\n",
       "      <td>38</td>\n",
       "      <td>2021-2022</td>\n",
       "      <td>22/05/2022</td>\n",
       "      <td>19:00</td>\n",
       "      <td>CD Alavés</td>\n",
       "      <td>Cádiz CF</td>\n",
       "      <td>0:1 (0:0)</td>\n",
       "      <td>NaN</td>\n",
       "      <td>NaN</td>\n",
       "    </tr>\n",
       "    <tr>\n",
       "      <th>8356</th>\n",
       "      <td>38</td>\n",
       "      <td>2021-2022</td>\n",
       "      <td>22/05/2022</td>\n",
       "      <td>19:00</td>\n",
       "      <td>Granada CF</td>\n",
       "      <td>Espanyol Barcelona</td>\n",
       "      <td>0:0 (0:0)</td>\n",
       "      <td>NaN</td>\n",
       "      <td>NaN</td>\n",
       "    </tr>\n",
       "    <tr>\n",
       "      <th>8357</th>\n",
       "      <td>38</td>\n",
       "      <td>2021-2022</td>\n",
       "      <td>22/05/2022</td>\n",
       "      <td>21:00</td>\n",
       "      <td>FC Barcelona</td>\n",
       "      <td>Villarreal CF</td>\n",
       "      <td>0:2 (0:1)</td>\n",
       "      <td>NaN</td>\n",
       "      <td>NaN</td>\n",
       "    </tr>\n",
       "    <tr>\n",
       "      <th>8358</th>\n",
       "      <td>38</td>\n",
       "      <td>2021-2022</td>\n",
       "      <td>22/05/2022</td>\n",
       "      <td>21:00</td>\n",
       "      <td>Sevilla FC</td>\n",
       "      <td>Athletic Bilbao</td>\n",
       "      <td>1:0 (0:0)</td>\n",
       "      <td>NaN</td>\n",
       "      <td>NaN</td>\n",
       "    </tr>\n",
       "    <tr>\n",
       "      <th>8359</th>\n",
       "      <td>38</td>\n",
       "      <td>2021-2022</td>\n",
       "      <td>22/05/2022</td>\n",
       "      <td>21:00</td>\n",
       "      <td>Real Sociedad</td>\n",
       "      <td>Atlético Madrid</td>\n",
       "      <td>1:2 (0:0)</td>\n",
       "      <td>NaN</td>\n",
       "      <td>NaN</td>\n",
       "    </tr>\n",
       "  </tbody>\n",
       "</table>\n",
       "<p>8360 rows × 9 columns</p>\n",
       "</div>"
      ],
      "text/plain": [
       "      Round     Season        Date   Hour             HomeTeam  \\\n",
       "0         1  2000-2001  09/09/2000    NaN        Real Zaragoza   \n",
       "1         1  2000-2001  09/09/2000    NaN          Real Madrid   \n",
       "2         1  2000-2001  09/09/2000    NaN         FC Barcelona   \n",
       "3         1  2000-2001  09/09/2000    NaN  Deportivo La Coruña   \n",
       "4         1  2000-2001  09/09/2000    NaN        Real Sociedad   \n",
       "...     ...        ...         ...    ...                  ...   \n",
       "8355     38  2021-2022  22/05/2022  19:00            CD Alavés   \n",
       "8356     38  2021-2022  22/05/2022  19:00           Granada CF   \n",
       "8357     38  2021-2022  22/05/2022  21:00         FC Barcelona   \n",
       "8358     38  2021-2022  22/05/2022  21:00           Sevilla FC   \n",
       "8359     38  2021-2022  22/05/2022  21:00        Real Sociedad   \n",
       "\n",
       "               GuestTeam      Score  ScoreDiff  Winners  \n",
       "0     Espanyol Barcelona  1:2 (0:0)        NaN      NaN  \n",
       "1            Valencia CF  2:1 (0:0)        NaN      NaN  \n",
       "2              Málaga CF  2:1 (2:0)        NaN      NaN  \n",
       "3        Athletic Bilbao  2:0 (0:0)        NaN      NaN  \n",
       "4       Racing Santander  2:2 (0:0)        NaN      NaN  \n",
       "...                  ...        ...        ...      ...  \n",
       "8355            Cádiz CF  0:1 (0:0)        NaN      NaN  \n",
       "8356  Espanyol Barcelona  0:0 (0:0)        NaN      NaN  \n",
       "8357       Villarreal CF  0:2 (0:1)        NaN      NaN  \n",
       "8358     Athletic Bilbao  1:0 (0:0)        NaN      NaN  \n",
       "8359     Atlético Madrid  1:2 (0:0)        NaN      NaN  \n",
       "\n",
       "[8360 rows x 9 columns]"
      ]
     },
     "execution_count": 32,
     "metadata": {},
     "output_type": "execute_result"
    }
   ],
   "source": [
    "df = pd.read_csv('data.csv')\n",
    "df1 = df.drop(['Unnamed: 0'], axis=1)\n",
    "df1"
   ]
  },
  {
   "cell_type": "code",
   "execution_count": 33,
   "id": "608c67ab",
   "metadata": {},
   "outputs": [
    {
     "data": {
      "text/html": [
       "<div>\n",
       "<style scoped>\n",
       "    .dataframe tbody tr th:only-of-type {\n",
       "        vertical-align: middle;\n",
       "    }\n",
       "\n",
       "    .dataframe tbody tr th {\n",
       "        vertical-align: top;\n",
       "    }\n",
       "\n",
       "    .dataframe thead th {\n",
       "        text-align: right;\n",
       "    }\n",
       "</style>\n",
       "<table border=\"1\" class=\"dataframe\">\n",
       "  <thead>\n",
       "    <tr style=\"text-align: right;\">\n",
       "      <th></th>\n",
       "      <th>Round</th>\n",
       "      <th>Season</th>\n",
       "      <th>Date</th>\n",
       "      <th>Hour</th>\n",
       "      <th>HomeTeam</th>\n",
       "      <th>GuestTeam</th>\n",
       "      <th>Score</th>\n",
       "      <th>ScoreDiff</th>\n",
       "      <th>Winners</th>\n",
       "    </tr>\n",
       "  </thead>\n",
       "  <tbody>\n",
       "    <tr>\n",
       "      <th>0</th>\n",
       "      <td>1</td>\n",
       "      <td>2000-2001</td>\n",
       "      <td>09/09/2000</td>\n",
       "      <td>NaN</td>\n",
       "      <td>Real Zaragoza</td>\n",
       "      <td>Espanyol Barcelona</td>\n",
       "      <td>1:2</td>\n",
       "      <td>-1</td>\n",
       "      <td>Away</td>\n",
       "    </tr>\n",
       "    <tr>\n",
       "      <th>1</th>\n",
       "      <td>1</td>\n",
       "      <td>2000-2001</td>\n",
       "      <td>09/09/2000</td>\n",
       "      <td>NaN</td>\n",
       "      <td>Real Madrid</td>\n",
       "      <td>Valencia CF</td>\n",
       "      <td>2:1</td>\n",
       "      <td>1</td>\n",
       "      <td>Home</td>\n",
       "    </tr>\n",
       "    <tr>\n",
       "      <th>2</th>\n",
       "      <td>1</td>\n",
       "      <td>2000-2001</td>\n",
       "      <td>09/09/2000</td>\n",
       "      <td>NaN</td>\n",
       "      <td>FC Barcelona</td>\n",
       "      <td>Málaga CF</td>\n",
       "      <td>2:1</td>\n",
       "      <td>1</td>\n",
       "      <td>Home</td>\n",
       "    </tr>\n",
       "    <tr>\n",
       "      <th>3</th>\n",
       "      <td>1</td>\n",
       "      <td>2000-2001</td>\n",
       "      <td>09/09/2000</td>\n",
       "      <td>NaN</td>\n",
       "      <td>Deportivo La Coruña</td>\n",
       "      <td>Athletic Bilbao</td>\n",
       "      <td>2:0</td>\n",
       "      <td>2</td>\n",
       "      <td>Home</td>\n",
       "    </tr>\n",
       "    <tr>\n",
       "      <th>4</th>\n",
       "      <td>1</td>\n",
       "      <td>2000-2001</td>\n",
       "      <td>09/09/2000</td>\n",
       "      <td>NaN</td>\n",
       "      <td>Real Sociedad</td>\n",
       "      <td>Racing Santander</td>\n",
       "      <td>2:2</td>\n",
       "      <td>0</td>\n",
       "      <td>Draw</td>\n",
       "    </tr>\n",
       "    <tr>\n",
       "      <th>...</th>\n",
       "      <td>...</td>\n",
       "      <td>...</td>\n",
       "      <td>...</td>\n",
       "      <td>...</td>\n",
       "      <td>...</td>\n",
       "      <td>...</td>\n",
       "      <td>...</td>\n",
       "      <td>...</td>\n",
       "      <td>...</td>\n",
       "    </tr>\n",
       "    <tr>\n",
       "      <th>8355</th>\n",
       "      <td>38</td>\n",
       "      <td>2021-2022</td>\n",
       "      <td>22/05/2022</td>\n",
       "      <td>19:00</td>\n",
       "      <td>CD Alavés</td>\n",
       "      <td>Cádiz CF</td>\n",
       "      <td>0:1</td>\n",
       "      <td>-1</td>\n",
       "      <td>Away</td>\n",
       "    </tr>\n",
       "    <tr>\n",
       "      <th>8356</th>\n",
       "      <td>38</td>\n",
       "      <td>2021-2022</td>\n",
       "      <td>22/05/2022</td>\n",
       "      <td>19:00</td>\n",
       "      <td>Granada CF</td>\n",
       "      <td>Espanyol Barcelona</td>\n",
       "      <td>0:0</td>\n",
       "      <td>0</td>\n",
       "      <td>Draw</td>\n",
       "    </tr>\n",
       "    <tr>\n",
       "      <th>8357</th>\n",
       "      <td>38</td>\n",
       "      <td>2021-2022</td>\n",
       "      <td>22/05/2022</td>\n",
       "      <td>21:00</td>\n",
       "      <td>FC Barcelona</td>\n",
       "      <td>Villarreal CF</td>\n",
       "      <td>0:2</td>\n",
       "      <td>-2</td>\n",
       "      <td>Away</td>\n",
       "    </tr>\n",
       "    <tr>\n",
       "      <th>8358</th>\n",
       "      <td>38</td>\n",
       "      <td>2021-2022</td>\n",
       "      <td>22/05/2022</td>\n",
       "      <td>21:00</td>\n",
       "      <td>Sevilla FC</td>\n",
       "      <td>Athletic Bilbao</td>\n",
       "      <td>1:0</td>\n",
       "      <td>1</td>\n",
       "      <td>Home</td>\n",
       "    </tr>\n",
       "    <tr>\n",
       "      <th>8359</th>\n",
       "      <td>38</td>\n",
       "      <td>2021-2022</td>\n",
       "      <td>22/05/2022</td>\n",
       "      <td>21:00</td>\n",
       "      <td>Real Sociedad</td>\n",
       "      <td>Atlético Madrid</td>\n",
       "      <td>1:2</td>\n",
       "      <td>-1</td>\n",
       "      <td>Away</td>\n",
       "    </tr>\n",
       "  </tbody>\n",
       "</table>\n",
       "<p>8360 rows × 9 columns</p>\n",
       "</div>"
      ],
      "text/plain": [
       "      Round     Season        Date   Hour             HomeTeam  \\\n",
       "0         1  2000-2001  09/09/2000    NaN        Real Zaragoza   \n",
       "1         1  2000-2001  09/09/2000    NaN          Real Madrid   \n",
       "2         1  2000-2001  09/09/2000    NaN         FC Barcelona   \n",
       "3         1  2000-2001  09/09/2000    NaN  Deportivo La Coruña   \n",
       "4         1  2000-2001  09/09/2000    NaN        Real Sociedad   \n",
       "...     ...        ...         ...    ...                  ...   \n",
       "8355     38  2021-2022  22/05/2022  19:00            CD Alavés   \n",
       "8356     38  2021-2022  22/05/2022  19:00           Granada CF   \n",
       "8357     38  2021-2022  22/05/2022  21:00         FC Barcelona   \n",
       "8358     38  2021-2022  22/05/2022  21:00           Sevilla FC   \n",
       "8359     38  2021-2022  22/05/2022  21:00        Real Sociedad   \n",
       "\n",
       "               GuestTeam Score ScoreDiff Winners  \n",
       "0     Espanyol Barcelona   1:2        -1    Away  \n",
       "1            Valencia CF   2:1         1    Home  \n",
       "2              Málaga CF   2:1         1    Home  \n",
       "3        Athletic Bilbao   2:0         2    Home  \n",
       "4       Racing Santander   2:2         0    Draw  \n",
       "...                  ...   ...       ...     ...  \n",
       "8355            Cádiz CF   0:1        -1    Away  \n",
       "8356  Espanyol Barcelona   0:0         0    Draw  \n",
       "8357       Villarreal CF   0:2        -2    Away  \n",
       "8358     Athletic Bilbao   1:0         1    Home  \n",
       "8359     Atlético Madrid   1:2        -1    Away  \n",
       "\n",
       "[8360 rows x 9 columns]"
      ]
     },
     "execution_count": 33,
     "metadata": {},
     "output_type": "execute_result"
    }
   ],
   "source": [
    "df = df1.copy()\n",
    "df = getWinners(df)\n",
    "df = editScore(df)\n",
    "df"
   ]
  },
  {
   "cell_type": "code",
   "execution_count": 34,
   "id": "69f11fdb",
   "metadata": {},
   "outputs": [
    {
     "name": "stderr",
     "output_type": "stream",
     "text": [
      "C:\\Users\\edenm\\anaconda3\\lib\\site-packages\\sklearn\\linear_model\\_logistic.py:814: ConvergenceWarning: lbfgs failed to converge (status=1):\n",
      "STOP: TOTAL NO. of ITERATIONS REACHED LIMIT.\n",
      "\n",
      "Increase the number of iterations (max_iter) or scale the data as shown in:\n",
      "    https://scikit-learn.org/stable/modules/preprocessing.html\n",
      "Please also refer to the documentation for alternative solver options:\n",
      "    https://scikit-learn.org/stable/modules/linear_model.html#logistic-regression\n",
      "  n_iter_i = _check_optimize_result(\n"
     ]
    },
    {
     "data": {
      "image/png": "[encoded data removed]",
      "text/plain": [
       "<Figure size 1440x1440 with 9 Axes>"
      ]
     },
     "metadata": {
      "needs_background": "light"
     },
     "output_type": "display_data"
    }
   ],
   "source": [
    "printEDA(df,'Real Madrid','FC Barcelona')\n",
    "df1 = cleanData(df,'Real Madrid','FC Barcelona')\n",
    "y_pred,resDF,evelList = logisticRegerssion(df1)"
   ]
  },
  {
   "cell_type": "code",
   "execution_count": 40,
   "id": "e9739523",
   "metadata": {},
   "outputs": [
    {
     "name": "stdout",
     "output_type": "stream",
     "text": [
      "[1.0, 0.8000000000000002]\n"
     ]
    },
    {
     "data": {
      "text/html": [
       "<div>\n",
       "<style scoped>\n",
       "    .dataframe tbody tr th:only-of-type {\n",
       "        vertical-align: middle;\n",
       "    }\n",
       "\n",
       "    .dataframe tbody tr th {\n",
       "        vertical-align: top;\n",
       "    }\n",
       "\n",
       "    .dataframe thead th {\n",
       "        text-align: right;\n",
       "    }\n",
       "</style>\n",
       "<table border=\"1\" class=\"dataframe\">\n",
       "  <thead>\n",
       "    <tr style=\"text-align: right;\">\n",
       "      <th></th>\n",
       "      <th>Actual</th>\n",
       "      <th>Predicted</th>\n",
       "    </tr>\n",
       "  </thead>\n",
       "  <tbody>\n",
       "    <tr>\n",
       "      <th>5228</th>\n",
       "      <td>2</td>\n",
       "      <td>2</td>\n",
       "    </tr>\n",
       "    <tr>\n",
       "      <th>5402</th>\n",
       "      <td>1</td>\n",
       "      <td>1</td>\n",
       "    </tr>\n",
       "    <tr>\n",
       "      <th>240</th>\n",
       "      <td>0</td>\n",
       "      <td>1</td>\n",
       "    </tr>\n",
       "    <tr>\n",
       "      <th>2012</th>\n",
       "      <td>2</td>\n",
       "      <td>2</td>\n",
       "    </tr>\n",
       "    <tr>\n",
       "      <th>7894</th>\n",
       "      <td>1</td>\n",
       "      <td>1</td>\n",
       "    </tr>\n",
       "  </tbody>\n",
       "</table>\n",
       "</div>"
      ],
      "text/plain": [
       "      Actual  Predicted\n",
       "5228       2          2\n",
       "5402       1          1\n",
       "240        0          1\n",
       "2012       2          2\n",
       "7894       1          1"
      ]
     },
     "execution_count": 40,
     "metadata": {},
     "output_type": "execute_result"
    }
   ],
   "source": [
    "print(evelList)\n",
    "resDF"
   ]
  }
 ],
 "metadata": {
  "kernelspec": {
   "display_name": "Python 3 (ipykernel)",
   "language": "python",
   "name": "python3"
  },
  "language_info": {
   "codemirror_mode": {
    "name": "ipython",
    "version": 3
   },
   "file_extension": ".py",
   "mimetype": "text/x-python",
   "name": "python",
   "nbconvert_exporter": "python",
   "pygments_lexer": "ipython3",
   "version": "3.9.12"
  }
 },
 "nbformat": 4,
 "nbformat_minor": 5
}
