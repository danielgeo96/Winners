{
 "cells": [
  {
   "cell_type": "code",
   "execution_count": null,
   "id": "ad733c0b",
   "metadata": {},
   "outputs": [],
   "source": []
  },
  {
   "cell_type": "code",
   "execution_count": 1,
   "id": "c3547d84",
   "metadata": {},
   "outputs": [],
   "source": [
    "\n",
    "#import all libraries we used\n",
    "\n",
    "import pandas as pd\n",
    "from bs4 import BeautifulSoup\n",
    "import requests\n",
    "import html5lib\n",
    "import os\n",
    "import re"
   ]
  },
  {
   "cell_type": "code",
   "execution_count": 2,
   "id": "091caf10",
   "metadata": {},
   "outputs": [],
   "source": [
    "\n",
    "#create our DataFrame\n",
    "\n",
    "def createDf():\n",
    "    data = {'round': [], 'season': [], 'date':[], 'hour':[], 'home team': [], 'guest team': [], 'score': [],'winners': []}\n",
    "    df = pd.DataFrame(data)\n",
    "    return df"
   ]
  },
  {
   "cell_type": "code",
   "execution_count": 3,
   "id": "2e00fb8c",
   "metadata": {},
   "outputs": [],
   "source": [
    "\n",
    "#Create a string of two seasons\n",
    "\n",
    "def season(firstY,secondY):\n",
    "    years = firstY+\"-\"+secondY\n",
    "    return years"
   ]
  },
  {
   "cell_type": "code",
   "execution_count": 4,
   "id": "5c2f5617",
   "metadata": {},
   "outputs": [],
   "source": [
    "\n",
    "#Create BeautifulSoup object\n",
    "\n",
    "def load_soup_object(years,rounds):\n",
    "    if years == \"2016-2017\":\n",
    "        url = \"https://www.worldfootball.net/schedule/esp-primera-division-\"+years+\"-spieltag_2/\"+rounds\n",
    "    else:\n",
    "        url = \"https://www.worldfootball.net/schedule/esp-primera-division-\"+years+\"-spieltag/\"+rounds\n",
    "    r = requests.get(url)\n",
    "    soup = BeautifulSoup(r.text,'html.parser')\n",
    "    return soup"
   ]
  },
  {
   "cell_type": "code",
   "execution_count": 5,
   "id": "d202cb51",
   "metadata": {},
   "outputs": [],
   "source": [
    "\n",
    "#Insert our BeautifulSoup object to our Dataframe\n",
    "\n",
    "def insertSoupToDataFrame(soup,df,rounds,years):\n",
    "    \n",
    "    date=list()\n",
    "    hour=list()\n",
    "    homeTeam=list()\n",
    "    guestTeam=list()\n",
    "    score=list()\n",
    "    \n",
    "    table = soup.find('table',attrs={\"class\":\"standard_tabelle\"})\n",
    "    \n",
    "    for row in table(\"tr\"):\n",
    "        cells = row(\"td\")\n",
    "        if(len(cells)<6):\n",
    "            continue\n",
    "        if cells[0].get_text() != \"\":\n",
    "            temp = cells[0].get_text()\n",
    "            date.append(cells[0].get_text())\n",
    "        else:\n",
    "            date.append(temp)\n",
    "        hour.append(cells[1].get_text())\n",
    "        homeTeam.append(cells[2].get_text().strip())\n",
    "        guestTeam.append(cells[4].get_text().strip())\n",
    "        score.append(cells[5].get_text().strip())\n",
    "        \n",
    "        \n",
    "    data = {'round': rounds, 'season': years, 'date':date, 'hour':hour, 'home team': homeTeam, 'guest team': guestTeam, 'score': score}\n",
    "    df = pd.DataFrame(data)\n",
    "    return df\n",
    "    "
   ]
  },
  {
   "cell_type": "code",
   "execution_count": 6,
   "id": "55ea2b76",
   "metadata": {},
   "outputs": [],
   "source": [
    "\n",
    "#Our main function to get our data using the last functions of creatring BeautifulSoup and dataframe\n",
    "\n",
    "def getData():\n",
    "    yearList = [\"2000\", \"2001\", \"2002\",\"2003\", \"2004\", \"2005\",\"2006\", \"2007\", \"2008\",\"2009\",\n",
    "                \"2010\", \"2011\",\"2012\", \"2013\", \"2014\",\"2015\", \"2016\", \"2017\",\"2018\", \"2019\", \"2020\",\"2021\", \"2022\"]\n",
    "\n",
    "    roundsList = [\"1\", \"2\", \"3\", \"4\", \"5\", \"6\", \"7\", \"8\", \"9\", \"10\",\n",
    "                  \"11\", \"12\",\"13\", \"14\", \"15\", \"16\", \"17\", \"18\", \"19\", \"20\",\n",
    "                  \"21\", \"22\", \"23\", \"24\", \"25\", \"26\", \"27\", \"28\", \"29\", \"30\",\n",
    "                  \"31\", \"32\", \"33\", \"34\", \"35\", \"36\", \"37\", \"38\"]\n",
    "\n",
    "    df = createDf()\n",
    "    tempYear = 0;\n",
    "    tempRounds = 0;\n",
    "    for year in yearList:\n",
    "        if yearList[tempYear] == \"2022\" :\n",
    "            break\n",
    "        years = season(yearList[tempYear],yearList[tempYear+1])\n",
    "        for rounds in roundsList:\n",
    "            soup = load_soup_object(years,rounds)\n",
    "            df1 = insertSoupToDataFrame(soup,df,rounds,years)\n",
    "            df = df.append(df1, ignore_index=True)\n",
    "            tempRounds = tempRounds+1\n",
    "        tempYear=tempYear+1\n",
    "    \n",
    "    return df"
   ]
  },
  {
   "cell_type": "code",
   "execution_count": 7,
   "id": "d49de0f0",
   "metadata": {},
   "outputs": [],
   "source": [
    "\n",
    "#Check the score and fill winners column \n",
    "\n",
    "def getWinners(df):\n",
    "    df1 = df.copy()\n",
    "    temp = df.score\n",
    "    winners = list()\n",
    "    for i in temp:\n",
    "        if i[0] < i[2]:\n",
    "            winners.append(\"Away\")\n",
    "        elif i[0] > i[2]:\n",
    "            winners.append(\"Home\")\n",
    "        else:\n",
    "            winners.append(\"Draw\")\n",
    "    df1.winners = winners\n",
    "    return df1"
   ]
  },
  {
   "cell_type": "code",
   "execution_count": 8,
   "id": "93523bd3",
   "metadata": {},
   "outputs": [],
   "source": [
    "\n",
    "#Edit the score \n",
    "\n",
    "def editScore(df):\n",
    "    df1 = df.copy()\n",
    "    temp = df.score\n",
    "    scoreEdit = list()\n",
    "    for i in temp:\n",
    "            i = i[0: 3]\n",
    "            scoreEdit.append(i)\n",
    "    df1.score = scoreEdit\n",
    "    return df1"
   ]
  },
  {
   "cell_type": "code",
   "execution_count": 9,
   "id": "c63c96ad",
   "metadata": {},
   "outputs": [],
   "source": [
    "\n",
    "#update empty hours with the value 0\n",
    "\n",
    "def updateHours(df):\n",
    "    df1 = df.copy()\n",
    "    temp = df.hour\n",
    "    hours = list()\n",
    "    for i in temp:\n",
    "        if i==\"NaN\" or i == \"\":\n",
    "            hours.append(\"0\")\n",
    "        else:\n",
    "            hours.append(i)\n",
    "    df1.hour = hours\n",
    "    return df1"
   ]
  },
  {
   "cell_type": "code",
   "execution_count": null,
   "id": "772dee93",
   "metadata": {},
   "outputs": [
    {
     "name": "stderr",
     "output_type": "stream",
     "text": [
      "C:\\Users\\edenm\\AppData\\Local\\Temp\\ipykernel_28356\\3562828952.py:22: FutureWarning: The frame.append method is deprecated and will be removed from pandas in a future version. Use pandas.concat instead.\n",
      "  df = df.append(df1, ignore_index=True)\n"
     ]
    }
   ],
   "source": [
    "df = getData()\n",
    "df1 = getWinners(df)\n",
    "df2 = updateHours(df1)\n",
    "df3 = editScore(df2)\n",
    "df3.to_csv('data.csv')\n",
    "df3"
   ]
  },
  {
   "cell_type": "code",
   "execution_count": 2,
   "id": "608c67ab",
   "metadata": {},
   "outputs": [
    {
     "data": {
      "text/html": [
       "<div>\n",
       "<style scoped>\n",
       "    .dataframe tbody tr th:only-of-type {\n",
       "        vertical-align: middle;\n",
       "    }\n",
       "\n",
       "    .dataframe tbody tr th {\n",
       "        vertical-align: top;\n",
       "    }\n",
       "\n",
       "    .dataframe thead th {\n",
       "        text-align: right;\n",
       "    }\n",
       "</style>\n",
       "<table border=\"1\" class=\"dataframe\">\n",
       "  <thead>\n",
       "    <tr style=\"text-align: right;\">\n",
       "      <th></th>\n",
       "      <th>round</th>\n",
       "      <th>season</th>\n",
       "      <th>date</th>\n",
       "      <th>hour</th>\n",
       "      <th>home team</th>\n",
       "      <th>guest team</th>\n",
       "      <th>score</th>\n",
       "      <th>winners</th>\n",
       "    </tr>\n",
       "  </thead>\n",
       "  <tbody>\n",
       "    <tr>\n",
       "      <th>0</th>\n",
       "      <td>1</td>\n",
       "      <td>2000-2001</td>\n",
       "      <td>09/09/2000</td>\n",
       "      <td>0</td>\n",
       "      <td>Real Zaragoza</td>\n",
       "      <td>Espanyol Barcelona</td>\n",
       "      <td>1:2</td>\n",
       "      <td>Away</td>\n",
       "    </tr>\n",
       "    <tr>\n",
       "      <th>1</th>\n",
       "      <td>1</td>\n",
       "      <td>2000-2001</td>\n",
       "      <td>09/09/2000</td>\n",
       "      <td>0</td>\n",
       "      <td>Real Madrid</td>\n",
       "      <td>Valencia CF</td>\n",
       "      <td>2:1</td>\n",
       "      <td>Home</td>\n",
       "    </tr>\n",
       "    <tr>\n",
       "      <th>2</th>\n",
       "      <td>1</td>\n",
       "      <td>2000-2001</td>\n",
       "      <td>09/09/2000</td>\n",
       "      <td>0</td>\n",
       "      <td>FC Barcelona</td>\n",
       "      <td>Málaga CF</td>\n",
       "      <td>2:1</td>\n",
       "      <td>Home</td>\n",
       "    </tr>\n",
       "    <tr>\n",
       "      <th>3</th>\n",
       "      <td>1</td>\n",
       "      <td>2000-2001</td>\n",
       "      <td>09/09/2000</td>\n",
       "      <td>0</td>\n",
       "      <td>Deportivo La Coruña</td>\n",
       "      <td>Athletic Bilbao</td>\n",
       "      <td>2:0</td>\n",
       "      <td>Home</td>\n",
       "    </tr>\n",
       "    <tr>\n",
       "      <th>4</th>\n",
       "      <td>1</td>\n",
       "      <td>2000-2001</td>\n",
       "      <td>09/09/2000</td>\n",
       "      <td>0</td>\n",
       "      <td>Real Sociedad</td>\n",
       "      <td>Racing Santander</td>\n",
       "      <td>2:2</td>\n",
       "      <td>Draw</td>\n",
       "    </tr>\n",
       "    <tr>\n",
       "      <th>...</th>\n",
       "      <td>...</td>\n",
       "      <td>...</td>\n",
       "      <td>...</td>\n",
       "      <td>...</td>\n",
       "      <td>...</td>\n",
       "      <td>...</td>\n",
       "      <td>...</td>\n",
       "      <td>...</td>\n",
       "    </tr>\n",
       "    <tr>\n",
       "      <th>8355</th>\n",
       "      <td>38</td>\n",
       "      <td>2021-2022</td>\n",
       "      <td>22/05/2022</td>\n",
       "      <td>19:00</td>\n",
       "      <td>CD Alavés</td>\n",
       "      <td>Cádiz CF</td>\n",
       "      <td>0:1</td>\n",
       "      <td>Away</td>\n",
       "    </tr>\n",
       "    <tr>\n",
       "      <th>8356</th>\n",
       "      <td>38</td>\n",
       "      <td>2021-2022</td>\n",
       "      <td>22/05/2022</td>\n",
       "      <td>19:00</td>\n",
       "      <td>Granada CF</td>\n",
       "      <td>Espanyol Barcelona</td>\n",
       "      <td>0:0</td>\n",
       "      <td>Draw</td>\n",
       "    </tr>\n",
       "    <tr>\n",
       "      <th>8357</th>\n",
       "      <td>38</td>\n",
       "      <td>2021-2022</td>\n",
       "      <td>22/05/2022</td>\n",
       "      <td>21:00</td>\n",
       "      <td>FC Barcelona</td>\n",
       "      <td>Villarreal CF</td>\n",
       "      <td>0:2</td>\n",
       "      <td>Away</td>\n",
       "    </tr>\n",
       "    <tr>\n",
       "      <th>8358</th>\n",
       "      <td>38</td>\n",
       "      <td>2021-2022</td>\n",
       "      <td>22/05/2022</td>\n",
       "      <td>21:00</td>\n",
       "      <td>Sevilla FC</td>\n",
       "      <td>Athletic Bilbao</td>\n",
       "      <td>1:0</td>\n",
       "      <td>Home</td>\n",
       "    </tr>\n",
       "    <tr>\n",
       "      <th>8359</th>\n",
       "      <td>38</td>\n",
       "      <td>2021-2022</td>\n",
       "      <td>22/05/2022</td>\n",
       "      <td>21:00</td>\n",
       "      <td>Real Sociedad</td>\n",
       "      <td>Atlético Madrid</td>\n",
       "      <td>1:2</td>\n",
       "      <td>Away</td>\n",
       "    </tr>\n",
       "  </tbody>\n",
       "</table>\n",
       "<p>8360 rows × 8 columns</p>\n",
       "</div>"
      ],
      "text/plain": [
       "      round     season        date   hour            home team  \\\n",
       "0         1  2000-2001  09/09/2000      0        Real Zaragoza   \n",
       "1         1  2000-2001  09/09/2000      0          Real Madrid   \n",
       "2         1  2000-2001  09/09/2000      0         FC Barcelona   \n",
       "3         1  2000-2001  09/09/2000      0  Deportivo La Coruña   \n",
       "4         1  2000-2001  09/09/2000      0        Real Sociedad   \n",
       "...     ...        ...         ...    ...                  ...   \n",
       "8355     38  2021-2022  22/05/2022  19:00            CD Alavés   \n",
       "8356     38  2021-2022  22/05/2022  19:00           Granada CF   \n",
       "8357     38  2021-2022  22/05/2022  21:00         FC Barcelona   \n",
       "8358     38  2021-2022  22/05/2022  21:00           Sevilla FC   \n",
       "8359     38  2021-2022  22/05/2022  21:00        Real Sociedad   \n",
       "\n",
       "              guest team score winners  \n",
       "0     Espanyol Barcelona   1:2    Away  \n",
       "1            Valencia CF   2:1    Home  \n",
       "2              Málaga CF   2:1    Home  \n",
       "3        Athletic Bilbao   2:0    Home  \n",
       "4       Racing Santander   2:2    Draw  \n",
       "...                  ...   ...     ...  \n",
       "8355            Cádiz CF   0:1    Away  \n",
       "8356  Espanyol Barcelona   0:0    Draw  \n",
       "8357       Villarreal CF   0:2    Away  \n",
       "8358     Athletic Bilbao   1:0    Home  \n",
       "8359     Atlético Madrid   1:2    Away  \n",
       "\n",
       "[8360 rows x 8 columns]"
      ]
     },
     "execution_count": 2,
     "metadata": {},
     "output_type": "execute_result"
    }
   ],
   "source": [
    "df = pd.read_csv('data.csv')\n",
    "df1 = df.drop(['Unnamed: 0'], axis=1)\n",
    "df2 = df1.dropna(axis=0)\n",
    "df2"
   ]
  },
  {
   "cell_type": "code",
   "execution_count": 3,
   "id": "a10ecf8c",
   "metadata": {},
   "outputs": [],
   "source": [
    "\n",
    "# Filter DataFrame to have only games participated by a certine team (home & away)\n",
    "\n",
    "def OneTeamDataFrameFilter(df, team):\n",
    "    return df.loc[(df['home team'] == team) | (df['guest team'] == team)]"
   ]
  },
  {
   "cell_type": "code",
   "execution_count": 4,
   "id": "738df507",
   "metadata": {},
   "outputs": [],
   "source": [
    "\n",
    "#Filter DataFrame to have only games participated by certine 2 teams (home & away)\n",
    "\n",
    "def TwoTeamsDataFarmeFilter(df, team1, team2):\n",
    "    return pd.concat([df.loc[(df['home team'] == team1) & (df['guest team'] == team2)],df.loc[(df['home team'] == team2) & (df['guest team'] == team1)]])"
   ]
  },
  {
   "cell_type": "code",
   "execution_count": 5,
   "id": "b75a8678",
   "metadata": {},
   "outputs": [],
   "source": [
    "\n",
    "# charts maker\n",
    "\n",
    "def one_dim_plot(sr, plot_type,plot_title):\n",
    "    return sr.plot(kind=plot_type, title=plot_title)"
   ]
  },
  {
   "cell_type": "code",
   "execution_count": 6,
   "id": "fde49f85",
   "metadata": {},
   "outputs": [],
   "source": [
    "\n",
    "# two teams win & loss ratio - pie chart\n",
    "\n",
    "def TwoTeamsWinsPieChart(df, team1, team2):\n",
    "    df_copy = TwoTeamsDataFarmeFilter(df, team1, team2)\n",
    "    \n",
    "    team1_wins = len(df_copy[(df_copy['home team'] == team1) & (df_copy['winners']=='Home')].index) + len(df_copy[(df_copy['guest team'] == team1) & (df_copy['winners']=='Away')].index)\n",
    "    draws= 0\n",
    "    for winner in df_copy.winners:\n",
    "        if winner == 'Draw':\n",
    "            draws = draws+1\n",
    "    team2_wins= len(df_copy[(df_copy['home team'] == team2) & (df_copy['winners']=='Home')].index) + len(df_copy[(df_copy['guest team'] == team2) & (df_copy['winners']=='Away')].index)\n",
    "    \n",
    "\n",
    "    \n",
    "    sr_data = pd.Series([team1_wins,draws,team2_wins], index=[team1, 'Draw', team2])\n",
    "    one_dim_plot(sr_data, 'pie', f\"{team1} & {team2} Matches\")"
   ]
  },
  {
   "cell_type": "code",
   "execution_count": 7,
   "id": "71a106ba",
   "metadata": {},
   "outputs": [],
   "source": [
    "\n",
    "# one team win & loss all time ratio - pie chart\n",
    "\n",
    "def OneTeamWinsPieChart(df, team):\n",
    "    df_copy =OneTeamDataFrameFilter(df, team)\n",
    "    wins=len(df_copy[(df_copy['home team'] == team) & (df_copy['winners']=='Home')].index) + len(df_copy[(df_copy['guest team'] == team) & (df_copy['winners']=='Away')].index)\n",
    "    draws=0\n",
    "    for winner in df_copy.winners:\n",
    "        if winner == 'Draw':\n",
    "            draws = draws+1\n",
    "    losses= len(df_copy.index)-wins-draws\n",
    "    \n",
    "    sr_data = pd.Series([wins,draws,losses], index=['Wins', 'Draws', 'Losses'])\n",
    "    one_dim_plot(sr_data, 'pie', f\"{team} Wins & Losses\")"
   ]
  },
  {
   "cell_type": "code",
   "execution_count": 8,
   "id": "899803ad",
   "metadata": {},
   "outputs": [],
   "source": [
    "\n",
    "# two teams goals all time ratio - pie chart\n",
    "\n",
    "def TwoTeamsGoalsPieChart(df, team1, team2):\n",
    "    df_copy = TwoTeamsDataFarmeFilter(df, team1, team2)\n",
    "    team1_score = 0\n",
    "    team2_score = 0\n",
    "    for index in df_copy.index:\n",
    "        \n",
    "        home_score = int(df_copy['score'][index][0]) \n",
    "        away_score = int(df_copy['score'][index][2] )\n",
    "        \n",
    "        if(df_copy['home team'][index] == team1):\n",
    "            team1_score += home_score\n",
    "            team2_score += away_score\n",
    "        else:\n",
    "            team1_score += away_score\n",
    "            team2_score += home_score\n",
    "            \n",
    "    sr_data = pd.Series([team1_score,team2_score], index=[team1, team2])\n",
    "    one_dim_plot(sr_data, 'pie', f\"{team1} & {team2} Matches Total Goals\")"
   ]
  },
  {
   "cell_type": "code",
   "execution_count": 9,
   "id": "39a84185",
   "metadata": {},
   "outputs": [],
   "source": [
    "\n",
    "# one team goals all time ratio - pie chart\n",
    "\n",
    "def OneTeamGoalsPieChart(df, team):\n",
    "    df_copy = OneTeamDataFrameFilter(df, team)\n",
    "    scored = 0\n",
    "    scored_to = 0\n",
    "    for index in df_copy.index:\n",
    "     \n",
    "        home_score = int(df_copy['score'][index][0]) \n",
    "        away_score = int(df_copy['score'][index][2] )\n",
    "        \n",
    "        if(df_copy['home team'][index] == team):\n",
    "            scored += home_score\n",
    "            scored_to += away_score\n",
    "        else:\n",
    "            scored += away_score\n",
    "            scored_to += home_score\n",
    "            \n",
    "    sr_data = pd.Series([scored,scored_to], index=['Scored', 'Scored To'])\n",
    "    one_dim_plot(sr_data, 'pie', f\"{team} Matches Total Goals\")"
   ]
  },
  {
   "cell_type": "code",
   "execution_count": 22,
   "id": "47eaf124",
   "metadata": {},
   "outputs": [],
   "source": [
    "\n",
    "#\n",
    "\n",
    "def HomeAwayWinLossRatiosBarChart(df, team):\n",
    "    df_copy = OneTeamDataFrameFilter(df,team)\n",
    "    \n",
    "    home_resault_df = pd.DataFrame({'Wins':[0,0], 'Losses':[0,0]}, index = ['Home','Away'])\n",
    "    away_resault_df = pd.DataFrame({'Wins':[0], 'Losses':[0]}, index = ['Away'])\n",
    "    \n",
    "    for index in df_copy.index:\n",
    "        if(df_copy['home team'][index] == team):\n",
    "            if(df_copy['winners'][index] == 'Home'):\n",
    "                home_resault_df['Wins'][0]+=1\n",
    "            else:\n",
    "                home_resault_df['Losses'][0]+=1\n",
    "        else:\n",
    "            if(df_copy['winners'][index] == 'Home'):\n",
    "                home_resault_df['Losses'][1]+=1\n",
    "            else:\n",
    "                home_resault_df['Wins'][1]+=1\n",
    "                \n",
    "    ax = home_resault_df.plot.bar(rot=0)  \n",
    "    print(home_resault_df)\n",
    "    print(away_resault_df)\n",
    "        \n",
    "    \n",
    "    "
   ]
  },
  {
   "cell_type": "code",
   "execution_count": 24,
   "id": "e2c91ca6",
   "metadata": {},
   "outputs": [
    {
     "name": "stdout",
     "output_type": "stream",
     "text": [
      "      Wins  Losses\n",
      "Home   128     176\n",
      "Away   142     162\n",
      "      Wins  Losses\n",
      "Away     0       0\n"
     ]
    },
    {
     "data": {
      "image/png": "[encoded data removed]",
      "text/plain": [
       "<Figure size 432x288 with 1 Axes>"
      ]
     },
     "metadata": {
      "needs_background": "light"
     },
     "output_type": "display_data"
    }
   ],
   "source": [
    "HomeAwayWinLossRatiosBarChart(df2, 'Málaga CF')"
   ]
  },
  {
   "cell_type": "code",
   "execution_count": null,
   "id": "1a92f1d9",
   "metadata": {},
   "outputs": [],
   "source": [
    "HomeAwayWinLossRatiosBarChart(df2, 'Atlético Madrid')"
   ]
  },
  {
   "cell_type": "code",
   "execution_count": 113,
   "id": "5eb38f06",
   "metadata": {},
   "outputs": [
    {
     "data": {
      "image/png": "[encoded data removed]",
      "text/plain": [
       "<Figure size 432x288 with 1 Axes>"
      ]
     },
     "metadata": {},
     "output_type": "display_data"
    }
   ],
   "source": [
    "OneTeamGoalsPieChart(df2,'Atlético Madrid')"
   ]
  },
  {
   "cell_type": "code",
   "execution_count": 106,
   "id": "9f714628",
   "metadata": {},
   "outputs": [
    {
     "data": {
      "image/png": "[encoded data removed]",
      "text/plain": [
       "<Figure size 432x288 with 1 Axes>"
      ]
     },
     "metadata": {},
     "output_type": "display_data"
    }
   ],
   "source": [
    "TwoTeamsGoalsPieChart(df2,'Atlético Madrid', 'Real Madrid')"
   ]
  },
  {
   "cell_type": "code",
   "execution_count": 69,
   "id": "8dc3fc5b",
   "metadata": {},
   "outputs": [
    {
     "data": {
      "image/png": "[encoded data removed]",
      "text/plain": [
       "<Figure size 432x288 with 1 Axes>"
      ]
     },
     "metadata": {},
     "output_type": "display_data"
    }
   ],
   "source": [
    "OneTeamWinsPieChart(df2, 'FC Barcelona')"
   ]
  },
  {
   "cell_type": "code",
   "execution_count": 66,
   "id": "3a927a7c",
   "metadata": {},
   "outputs": [
    {
     "name": "stdout",
     "output_type": "stream",
     "text": [
      "13\n",
      "None\n"
     ]
    },
    {
     "data": {
      "image/png": "[encoded data removed]",
      "text/plain": [
       "<Figure size 432x288 with 1 Axes>"
      ]
     },
     "metadata": {},
     "output_type": "display_data"
    }
   ],
   "source": [
    "print(TwoTeamsWinsPieChart(df2, 'Atlético Madrid', 'Real Madrid'))"
   ]
  },
  {
   "cell_type": "code",
   "execution_count": 67,
   "id": "2ba17c3f",
   "metadata": {},
   "outputs": [
    {
     "name": "stdout",
     "output_type": "stream",
     "text": [
      "3\n",
      "None\n"
     ]
    },
    {
     "data": {
      "image/png": "[encoded data removed]",
      "text/plain": [
       "<Figure size 432x288 with 1 Axes>"
      ]
     },
     "metadata": {},
     "output_type": "display_data"
    }
   ],
   "source": [
    "print(TwoTeamsWinsPieChart(df2, 'Real Zaragoza', 'FC Barcelona'))"
   ]
  },
  {
   "cell_type": "code",
   "execution_count": null,
   "id": "0621966e",
   "metadata": {},
   "outputs": [],
   "source": []
  }
 ],
 "metadata": {
  "kernelspec": {
   "display_name": "Python 3 (ipykernel)",
   "language": "python",
   "name": "python3"
  },
  "language_info": {
   "codemirror_mode": {
    "name": "ipython",
    "version": 3
   },
   "file_extension": ".py",
   "mimetype": "text/x-python",
   "name": "python",
   "nbconvert_exporter": "python",
   "pygments_lexer": "ipython3",
   "version": "3.9.12"
  }
 },
 "nbformat": 4,
 "nbformat_minor": 5
}
